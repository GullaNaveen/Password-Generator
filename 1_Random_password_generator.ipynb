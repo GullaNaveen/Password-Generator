{
  "nbformat": 4,
  "nbformat_minor": 0,
  "metadata": {
    "colab": {
      "name": "1. Random_password_generator.ipynb",
      "provenance": [],
      "authorship_tag": "ABX9TyPYxAQ18CCpAaBDaQFszRoH",
      "include_colab_link": true
    },
    "kernelspec": {
      "name": "python3",
      "display_name": "Python 3"
    },
    "language_info": {
      "name": "python"
    }
  },
  "cells": [
    {
      "cell_type": "markdown",
      "metadata": {
        "id": "view-in-github",
        "colab_type": "text"
      },
      "source": [
        "<a href=\"https://colab.research.google.com/github/GullaNaveen/Password-Generator/blob/main/1_Random_password_generator.ipynb\" target=\"_parent\"><img src=\"https://colab.research.google.com/assets/colab-badge.svg\" alt=\"Open In Colab\"/></a>"
      ]
    },
    {
      "cell_type": "code",
      "execution_count": 2,
      "metadata": {
        "colab": {
          "base_uri": "https://localhost:8080/"
        },
        "id": "_YdsQgdr0M5U",
        "outputId": "f7f62783-ac98-4bd0-d3de-ec72a266f170"
      },
      "outputs": [
        {
          "output_type": "stream",
          "name": "stdout",
          "text": [
            "T&yR\n",
            "Ugyz\n",
            "6how\n",
            "aUb3\n",
            "w#F}\n",
            "KM&X\n",
            "o6nX\n",
            "yxrA\n",
            "x@98\n",
            "*SBP\n",
            "O&NE\n",
            "Rh2j\n",
            "RX,!\n",
            "ao}]\n",
            "53za\n",
            "zelm\n",
            "trnG\n",
            "fSBq\n",
            "09hI\n",
            "FM0Z\n"
          ]
        }
      ],
      "source": [
        "import random\n",
        "\n",
        "# Stings containing all characters in the password.\n",
        "uppercase_letters=\"ABCDEFGHIJKLMNOPQRSTUVWXYZ\"\n",
        "lowercase_letters=uppercase_letters.lower()\n",
        "digits=\"1234567890\"\n",
        "symbols=\",.(){}[]@#$%&*!?/\"\n",
        "\n",
        "# Creating booleans which will be included in the password.\n",
        "upper,lower,nums,syms= True,True,True,True\n",
        "\n",
        "# Strings that are going to be used.\n",
        "all=\"\"\n",
        "if upper:\n",
        "  all += uppercase_letters\n",
        "\n",
        "if lower:\n",
        "  all += lowercase_letters\n",
        "\n",
        "if nums:\n",
        "  all += digits\n",
        "\n",
        "if syms:\n",
        "  all += symbols\n",
        "\n",
        "# size of the passwords generated\n",
        "length=4\n",
        "amount=20\n",
        "\n",
        "for x in range(amount):\n",
        "  password=\"\".join(random.sample(all,length))\n",
        "  print(password)"
      ]
    },
    {
      "cell_type": "code",
      "source": [
        "print(pass)"
      ],
      "metadata": {
        "id": "Or_s2CBUABca"
      },
      "execution_count": null,
      "outputs": []
    }
  ]
}